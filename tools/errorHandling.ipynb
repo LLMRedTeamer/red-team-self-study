{
 "cells": [
  {
   "cell_type": "code",
   "execution_count": 1,
   "id": "596fb412-0a8c-45c2-861f-7bf6a6d2952b",
   "metadata": {},
   "outputs": [
    {
     "name": "stdout",
     "output_type": "stream",
     "text": [
      "Hello, Mitch!\n"
     ]
    }
   ],
   "source": [
    "def greet (name):\n",
    "    return f\"Hello, {name}!\"\n",
    "\n",
    "print(greet(\"Mitch\"))"
   ]
  },
  {
   "cell_type": "code",
   "execution_count": 2,
   "id": "1f0813f6-72cf-4c89-a4d4-91b1a833bfe4",
   "metadata": {},
   "outputs": [
    {
     "name": "stdout",
     "output_type": "stream",
     "text": [
      "Caught an error: invalid literal for int() with base 10: 'not_a_number'\n"
     ]
    }
   ],
   "source": [
    "try:\n",
    "    x = int(\"not_a_number\")\n",
    "except ValueError as e:\n",
    "    print(f\"Caught an error: {e}\")"
   ]
  },
  {
   "cell_type": "code",
   "execution_count": 3,
   "id": "51a90de6-6d8e-4810-8fab-34e2b658c8b4",
   "metadata": {},
   "outputs": [
    {
     "name": "stdout",
     "output_type": "stream",
     "text": [
      "X = 5\n"
     ]
    }
   ],
   "source": [
    "try:\n",
    "    x = 5\n",
    "    print(f\"X = {x}\")\n",
    "except ValueError as e:\n",
    "    print(f\"Caught an error: {e}\")"
   ]
  },
  {
   "cell_type": "code",
   "execution_count": null,
   "id": "80e8f40b-5950-47da-9350-302c4e04a98d",
   "metadata": {},
   "outputs": [],
   "source": []
  }
 ],
 "metadata": {
  "kernelspec": {
   "display_name": "Python 3 (ipykernel)",
   "language": "python",
   "name": "python3"
  },
  "language_info": {
   "codemirror_mode": {
    "name": "ipython",
    "version": 3
   },
   "file_extension": ".py",
   "mimetype": "text/x-python",
   "name": "python",
   "nbconvert_exporter": "python",
   "pygments_lexer": "ipython3",
   "version": "3.12.3"
  }
 },
 "nbformat": 4,
 "nbformat_minor": 5
}
