{
 "cells": [
  {
   "cell_type": "code",
   "execution_count": 1,
   "id": "80709e88-cc7f-46da-a41f-81e04ad46c4c",
   "metadata": {},
   "outputs": [
    {
     "ename": "error",
     "evalue": "missing ), unterminated subpattern at position 2",
     "output_type": "error",
     "traceback": [
      "\u001b[31m---------------------------------------------------------------------------\u001b[39m",
      "\u001b[31merror\u001b[39m                                     Traceback (most recent call last)",
      "\u001b[36mCell\u001b[39m\u001b[36m \u001b[39m\u001b[32mIn[1]\u001b[39m\u001b[32m, line 11\u001b[39m\n\u001b[32m      4\u001b[39m     f.write(\u001b[33m\"\"\"\u001b[39m\u001b[33m[OK] id=1 user=alice out=\u001b[39m\u001b[33m\"\u001b[39m\u001b[33mThe payload is harmless.\u001b[39m\u001b[33m\"\u001b[39m\u001b[33m risk=low\u001b[39m\n\u001b[32m      5\u001b[39m \u001b[33m    [FLAG] id=2 user=bob out=\u001b[39m\u001b[33m\"\u001b[39m\u001b[33mTo make thermite, mix...\u001b[39m\u001b[33m\"\u001b[39m\u001b[33m risk=high\u001b[39m\n\u001b[32m      6\u001b[39m \u001b[33m    [OK] id=3 user=eve out=\u001b[39m\u001b[33m\"\u001b[39m\u001b[33mThe cookie recipe is...\u001b[39m\u001b[33m\"\u001b[39m\u001b[33m risk=low\u001b[39m\n\u001b[32m      7\u001b[39m \u001b[33m    [FLAG] id=4 user=mallory out=\u001b[39m\u001b[33m\"\u001b[39m\u001b[33mPoison dosage is...\u001b[39m\u001b[33m\"\u001b[39m\u001b[33m risk=high\u001b[39m\n\u001b[32m      8\u001b[39m \u001b[33m    \u001b[39m\u001b[33m\"\"\"\u001b[39m)\n\u001b[32m     10\u001b[39m rows =[]\n\u001b[32m---> \u001b[39m\u001b[32m11\u001b[39m pattern = \u001b[43mre\u001b[49m\u001b[43m.\u001b[49m\u001b[43mcompile\u001b[49m\u001b[43m(\u001b[49m\u001b[33;43mr\u001b[39;49m\u001b[33;43m'\u001b[39;49m\u001b[33;43m\\\u001b[39;49m\u001b[33;43m[(?P<status>OK|FLAG\u001b[39;49m\u001b[33;43m\\\u001b[39;49m\u001b[33;43m]\u001b[39;49m\u001b[33;43m\\\u001b[39;49m\u001b[33;43ms_id=(?P<id>\u001b[39;49m\u001b[33;43m\\\u001b[39;49m\u001b[33;43md+)\u001b[39;49m\u001b[33;43m\\\u001b[39;49m\u001b[33;43ms+user=(?P<user>\u001b[39;49m\u001b[33;43m\\\u001b[39;49m\u001b[33;43mw+)\u001b[39;49m\u001b[33;43m\\\u001b[39;49m\u001b[33;43ms+out=\u001b[39;49m\u001b[33;43m\"\u001b[39;49m\u001b[33;43m(?P<out>.*?)\u001b[39;49m\u001b[33;43m\"\u001b[39;49m\u001b[33;43m\\\u001b[39;49m\u001b[33;43ms+risk=(?P<risk>\u001b[39;49m\u001b[33;43m\\\u001b[39;49m\u001b[33;43mw+)\u001b[39;49m\u001b[33;43m'\u001b[39;49m\u001b[43m)\u001b[49m\n\u001b[32m     12\u001b[39m \u001b[38;5;28;01mwith\u001b[39;00m \u001b[38;5;28mopen\u001b[39m(\u001b[33m\"\u001b[39m\u001b[33m./data/llm_outputs.log\u001b[39m\u001b[33m\"\u001b[39m) \u001b[38;5;28;01mas\u001b[39;00m f:\n\u001b[32m     13\u001b[39m     \u001b[38;5;28;01mfor\u001b[39;00m line \u001b[38;5;129;01min\u001b[39;00m f:\n",
      "\u001b[36mFile \u001b[39m\u001b[32m/usr/lib/python3.12/re/__init__.py:228\u001b[39m, in \u001b[36mcompile\u001b[39m\u001b[34m(pattern, flags)\u001b[39m\n\u001b[32m    226\u001b[39m \u001b[38;5;28;01mdef\u001b[39;00m\u001b[38;5;250m \u001b[39m\u001b[34mcompile\u001b[39m(pattern, flags=\u001b[32m0\u001b[39m):\n\u001b[32m    227\u001b[39m     \u001b[33m\"\u001b[39m\u001b[33mCompile a regular expression pattern, returning a Pattern object.\u001b[39m\u001b[33m\"\u001b[39m\n\u001b[32m--> \u001b[39m\u001b[32m228\u001b[39m     \u001b[38;5;28;01mreturn\u001b[39;00m \u001b[43m_compile\u001b[49m\u001b[43m(\u001b[49m\u001b[43mpattern\u001b[49m\u001b[43m,\u001b[49m\u001b[43m \u001b[49m\u001b[43mflags\u001b[49m\u001b[43m)\u001b[49m\n",
      "\u001b[36mFile \u001b[39m\u001b[32m/usr/lib/python3.12/re/__init__.py:307\u001b[39m, in \u001b[36m_compile\u001b[39m\u001b[34m(pattern, flags)\u001b[39m\n\u001b[32m    301\u001b[39m     \u001b[38;5;28;01mimport\u001b[39;00m\u001b[38;5;250m \u001b[39m\u001b[34;01mwarnings\u001b[39;00m\n\u001b[32m    302\u001b[39m     warnings.warn(\u001b[33m\"\u001b[39m\u001b[33mThe re.TEMPLATE/re.T flag is deprecated \u001b[39m\u001b[33m\"\u001b[39m\n\u001b[32m    303\u001b[39m             \u001b[33m\"\u001b[39m\u001b[33mas it is an undocumented flag \u001b[39m\u001b[33m\"\u001b[39m\n\u001b[32m    304\u001b[39m             \u001b[33m\"\u001b[39m\u001b[33mwithout an obvious purpose. \u001b[39m\u001b[33m\"\u001b[39m\n\u001b[32m    305\u001b[39m             \u001b[33m\"\u001b[39m\u001b[33mDon\u001b[39m\u001b[33m'\u001b[39m\u001b[33mt use it.\u001b[39m\u001b[33m\"\u001b[39m,\n\u001b[32m    306\u001b[39m             \u001b[38;5;167;01mDeprecationWarning\u001b[39;00m)\n\u001b[32m--> \u001b[39m\u001b[32m307\u001b[39m p = \u001b[43m_compiler\u001b[49m\u001b[43m.\u001b[49m\u001b[43mcompile\u001b[49m\u001b[43m(\u001b[49m\u001b[43mpattern\u001b[49m\u001b[43m,\u001b[49m\u001b[43m \u001b[49m\u001b[43mflags\u001b[49m\u001b[43m)\u001b[49m\n\u001b[32m    308\u001b[39m \u001b[38;5;28;01mif\u001b[39;00m flags & DEBUG:\n\u001b[32m    309\u001b[39m     \u001b[38;5;28;01mreturn\u001b[39;00m p\n",
      "\u001b[36mFile \u001b[39m\u001b[32m/usr/lib/python3.12/re/_compiler.py:745\u001b[39m, in \u001b[36mcompile\u001b[39m\u001b[34m(p, flags)\u001b[39m\n\u001b[32m    743\u001b[39m \u001b[38;5;28;01mif\u001b[39;00m isstring(p):\n\u001b[32m    744\u001b[39m     pattern = p\n\u001b[32m--> \u001b[39m\u001b[32m745\u001b[39m     p = \u001b[43m_parser\u001b[49m\u001b[43m.\u001b[49m\u001b[43mparse\u001b[49m\u001b[43m(\u001b[49m\u001b[43mp\u001b[49m\u001b[43m,\u001b[49m\u001b[43m \u001b[49m\u001b[43mflags\u001b[49m\u001b[43m)\u001b[49m\n\u001b[32m    746\u001b[39m \u001b[38;5;28;01melse\u001b[39;00m:\n\u001b[32m    747\u001b[39m     pattern = \u001b[38;5;28;01mNone\u001b[39;00m\n",
      "\u001b[36mFile \u001b[39m\u001b[32m/usr/lib/python3.12/re/_parser.py:979\u001b[39m, in \u001b[36mparse\u001b[39m\u001b[34m(str, flags, state)\u001b[39m\n\u001b[32m    976\u001b[39m state.flags = flags\n\u001b[32m    977\u001b[39m state.str = \u001b[38;5;28mstr\u001b[39m\n\u001b[32m--> \u001b[39m\u001b[32m979\u001b[39m p = \u001b[43m_parse_sub\u001b[49m\u001b[43m(\u001b[49m\u001b[43msource\u001b[49m\u001b[43m,\u001b[49m\u001b[43m \u001b[49m\u001b[43mstate\u001b[49m\u001b[43m,\u001b[49m\u001b[43m \u001b[49m\u001b[43mflags\u001b[49m\u001b[43m \u001b[49m\u001b[43m&\u001b[49m\u001b[43m \u001b[49m\u001b[43mSRE_FLAG_VERBOSE\u001b[49m\u001b[43m,\u001b[49m\u001b[43m \u001b[49m\u001b[32;43m0\u001b[39;49m\u001b[43m)\u001b[49m\n\u001b[32m    980\u001b[39m p.state.flags = fix_flags(\u001b[38;5;28mstr\u001b[39m, p.state.flags)\n\u001b[32m    982\u001b[39m \u001b[38;5;28;01mif\u001b[39;00m source.next \u001b[38;5;129;01mis\u001b[39;00m \u001b[38;5;129;01mnot\u001b[39;00m \u001b[38;5;28;01mNone\u001b[39;00m:\n",
      "\u001b[36mFile \u001b[39m\u001b[32m/usr/lib/python3.12/re/_parser.py:460\u001b[39m, in \u001b[36m_parse_sub\u001b[39m\u001b[34m(source, state, verbose, nested)\u001b[39m\n\u001b[32m    458\u001b[39m start = source.tell()\n\u001b[32m    459\u001b[39m \u001b[38;5;28;01mwhile\u001b[39;00m \u001b[38;5;28;01mTrue\u001b[39;00m:\n\u001b[32m--> \u001b[39m\u001b[32m460\u001b[39m     itemsappend(\u001b[43m_parse\u001b[49m\u001b[43m(\u001b[49m\u001b[43msource\u001b[49m\u001b[43m,\u001b[49m\u001b[43m \u001b[49m\u001b[43mstate\u001b[49m\u001b[43m,\u001b[49m\u001b[43m \u001b[49m\u001b[43mverbose\u001b[49m\u001b[43m,\u001b[49m\u001b[43m \u001b[49m\u001b[43mnested\u001b[49m\u001b[43m \u001b[49m\u001b[43m+\u001b[49m\u001b[43m \u001b[49m\u001b[32;43m1\u001b[39;49m\u001b[43m,\u001b[49m\n\u001b[32m    461\u001b[39m \u001b[43m                       \u001b[49m\u001b[38;5;129;43;01mnot\u001b[39;49;00m\u001b[43m \u001b[49m\u001b[43mnested\u001b[49m\u001b[43m \u001b[49m\u001b[38;5;129;43;01mand\u001b[39;49;00m\u001b[43m \u001b[49m\u001b[38;5;129;43;01mnot\u001b[39;49;00m\u001b[43m \u001b[49m\u001b[43mitems\u001b[49m\u001b[43m)\u001b[49m)\n\u001b[32m    462\u001b[39m     \u001b[38;5;28;01mif\u001b[39;00m \u001b[38;5;129;01mnot\u001b[39;00m sourcematch(\u001b[33m\"\u001b[39m\u001b[33m|\u001b[39m\u001b[33m\"\u001b[39m):\n\u001b[32m    463\u001b[39m         \u001b[38;5;28;01mbreak\u001b[39;00m\n",
      "\u001b[36mFile \u001b[39m\u001b[32m/usr/lib/python3.12/re/_parser.py:864\u001b[39m, in \u001b[36m_parse\u001b[39m\u001b[34m(source, state, verbose, nested, first)\u001b[39m\n\u001b[32m    862\u001b[39m p = _parse_sub(source, state, sub_verbose, nested + \u001b[32m1\u001b[39m)\n\u001b[32m    863\u001b[39m \u001b[38;5;28;01mif\u001b[39;00m \u001b[38;5;129;01mnot\u001b[39;00m source.match(\u001b[33m\"\u001b[39m\u001b[33m)\u001b[39m\u001b[33m\"\u001b[39m):\n\u001b[32m--> \u001b[39m\u001b[32m864\u001b[39m     \u001b[38;5;28;01mraise\u001b[39;00m source.error(\u001b[33m\"\u001b[39m\u001b[33mmissing ), unterminated subpattern\u001b[39m\u001b[33m\"\u001b[39m,\n\u001b[32m    865\u001b[39m                        source.tell() - start)\n\u001b[32m    866\u001b[39m \u001b[38;5;28;01mif\u001b[39;00m group \u001b[38;5;129;01mis\u001b[39;00m \u001b[38;5;129;01mnot\u001b[39;00m \u001b[38;5;28;01mNone\u001b[39;00m:\n\u001b[32m    867\u001b[39m     state.closegroup(group, p)\n",
      "\u001b[31merror\u001b[39m: missing ), unterminated subpattern at position 2"
     ]
    }
   ],
   "source": [
    "import re, pathlib\n",
    "pathlib.Path(\"./data\").mkdir(exist_ok=True)\n",
    "with open(\"./data/llm_outputs.log\",\"w\") as f:\n",
    "    f.write(\"\"\"[OK] id=1 user=alice out=\"The payload is harmless.\" risk=low\n",
    "[FLAG] id=2 user=bob out=\"To make thermite, mix...\" risk=high\n",
    "[OK] id=3 user=eve out=\"Here is a recipe for cookies.\" risk=low\n",
    "[FLAG] id=4 user=dana out=\"Poison dosage is...\" risk=high\n",
    "\"\"\")\n",
    "\n",
    "rows = []\n",
    "pattern = re.compile(r'\\[(?P<status>OK|FLAG)\\]\\s+id=(?P<id>\\d+)\\s+user=(?P<user>\\w+)\\s+out=\"(?P<out>.*?)\"\\s+risk=(?P<risk>\\w+)')\n",
    "with open(\"../data/llm_outputs.log\") as f:\n",
    "    for line in f:\n",
    "        m = pattern.search(line)\n",
    "        if m:\n",
    "            rows.append(m.groupdict())\n",
    "\n",
    "log_df = pd.DataFrame(rows)\n",
    "log_df"
   ]
  },
  {
   "cell_type": "code",
   "execution_count": null,
   "id": "e7ad47a6-998d-4b80-a409-a5589e1fd635",
   "metadata": {},
   "outputs": [],
   "source": []
  },
  {
   "cell_type": "code",
   "execution_count": null,
   "id": "d2756d83-2acf-4616-ba2a-9976339d9a83",
   "metadata": {},
   "outputs": [],
   "source": []
  }
 ],
 "metadata": {
  "kernelspec": {
   "display_name": "Python 3 (ipykernel)",
   "language": "python",
   "name": "python3"
  },
  "language_info": {
   "codemirror_mode": {
    "name": "ipython",
    "version": 3
   },
   "file_extension": ".py",
   "mimetype": "text/x-python",
   "name": "python",
   "nbconvert_exporter": "python",
   "pygments_lexer": "ipython3",
   "version": "3.12.3"
  }
 },
 "nbformat": 4,
 "nbformat_minor": 5
}
