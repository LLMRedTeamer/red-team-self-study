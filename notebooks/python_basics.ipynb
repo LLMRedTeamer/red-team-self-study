{
 "cells": [
  {
   "cell_type": "code",
   "execution_count": 1,
   "id": "1377a63a-75dd-478a-912d-e136d1bd107b",
   "metadata": {},
   "outputs": [
    {
     "name": "stdout",
     "output_type": "stream",
     "text": [
      "<class 'int'> <class 'float'> <class 'str'> <class 'bool'>\n"
     ]
    }
   ],
   "source": [
    "x = 32\n",
    "y = 3.14\n",
    "name = \"Mitch\"\n",
    "is_admin = True\n",
    "print (type(x), type(y), type(name), type(is_admin))"
   ]
  },
  {
   "cell_type": "code",
   "execution_count": 2,
   "id": "c1738234-a33d-4c87-81bd-6b01afd5983a",
   "metadata": {},
   "outputs": [],
   "source": [
    "pets = [\"dog\", \"cat\", \"bird\", \"fish\"]\n",
    "\n",
    "user = {\"username\": \"admin\", \"role\": \"red_teamer\"}"
   ]
  },
  {
   "cell_type": "code",
   "execution_count": 3,
   "id": "86447641-ccd4-45e0-9e20-4fb981f4ddda",
   "metadata": {},
   "outputs": [
    {
     "name": "stdout",
     "output_type": "stream",
     "text": [
      "red_teamer\n"
     ]
    }
   ],
   "source": [
    "print(user[\"role\"])"
   ]
  },
  {
   "cell_type": "code",
   "execution_count": 4,
   "id": "3732b0f0-f4af-4e72-bb12-e0588ff86a38",
   "metadata": {},
   "outputs": [
    {
     "name": "stdout",
     "output_type": "stream",
     "text": [
      "Access Granted\n"
     ]
    }
   ],
   "source": [
    "if is_admin:\n",
    "    print(\"Access Granted\")\n",
    "else:\n",
    "    print(\"Access Denied\")"
   ]
  },
  {
   "cell_type": "code",
   "execution_count": 5,
   "id": "a037d8e3-67c9-4c66-98bf-30548dc1f7a6",
   "metadata": {},
   "outputs": [
    {
     "name": "stdout",
     "output_type": "stream",
     "text": [
      "dog\n",
      "cat\n",
      "bird\n",
      "fish\n"
     ]
    }
   ],
   "source": [
    "for pet in pets:\n",
    "    print(pet)"
   ]
  },
  {
   "cell_type": "code",
   "execution_count": 7,
   "id": "c0d22cc6-bb2a-415b-b7d5-1a7f9ee84b77",
   "metadata": {},
   "outputs": [
    {
     "name": "stdout",
     "output_type": "stream",
     "text": [
      "Hello, Mitch!\n"
     ]
    }
   ],
   "source": [
    "def greet(user):\n",
    "        return f\"Hello, {user}!\"\n",
    "\n",
    "print(greet(\"Mitch\"))"
   ]
  },
  {
   "cell_type": "code",
   "execution_count": 10,
   "id": "70ffd8c3-db3f-46c2-84b1-4cd3fe78b603",
   "metadata": {},
   "outputs": [
    {
     "name": "stdout",
     "output_type": "stream",
     "text": [
      "Red team was here.\n"
     ]
    }
   ],
   "source": [
    "with open(\"test.txt\", \"w\") as f:\n",
    "    f.write(\"Red team was here.\")\n",
    "\n",
    "with open(\"test.txt\", \"r\") as f:\n",
    "    print(f.read())"
   ]
  },
  {
   "cell_type": "code",
   "execution_count": null,
   "id": "bb179f7b-bcf3-4c8d-9865-3a850af8e538",
   "metadata": {},
   "outputs": [],
   "source": []
  }
 ],
 "metadata": {
  "kernelspec": {
   "display_name": "Python 3 (ipykernel)",
   "language": "python",
   "name": "python3"
  },
  "language_info": {
   "codemirror_mode": {
    "name": "ipython",
    "version": 3
   },
   "file_extension": ".py",
   "mimetype": "text/x-python",
   "name": "python",
   "nbconvert_exporter": "python",
   "pygments_lexer": "ipython3",
   "version": "3.12.3"
  }
 },
 "nbformat": 4,
 "nbformat_minor": 5
}
